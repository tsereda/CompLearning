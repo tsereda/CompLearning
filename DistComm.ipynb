{
 "cells": [
  {
   "cell_type": "markdown",
   "metadata": {},
   "source": [
    "# Simple Distributed Communication\n",
    "\n",
    "This notebook implements a basic distributed system where agents can communicate over a simulated network. We'll use Python's asyncio library to handle concurrent operations and simulate network behavior.\n",
    "\n",
    "## References:\n",
    "1. Van Steen, M., & Tanenbaum, A. S. (2017). Distributed systems. Maarten van Steen Leiden, The Netherlands.\n",
    "2. Attiya, H., & Welch, J. (2004). Distributed computing: fundamentals, simulations, and advanced topics (Vol. 19). John Wiley & Sons.\n",
    "3. Python asyncio documentation: https://docs.python.org/3/library/asyncio.html"
   ]
  },
  {
   "cell_type": "code",
   "execution_count": 1,
   "metadata": {},
   "outputs": [
    {
     "name": "stdout",
     "output_type": "stream",
     "text": [
      "Simple Distributed Communication Simulation\n"
     ]
    }
   ],
   "source": [
    "import asyncio\n",
    "import random\n",
    "import time\n",
    "from typing import List, Dict\n",
    "\n",
    "print(\"Simple Distributed Communication Simulation\")"
   ]
  },
  {
   "cell_type": "markdown",
   "metadata": {},
   "source": [
    "## Agent Node\n",
    "\n",
    "We'll start by defining an `AgentNode` class that represents an individual agent in our distributed system. Each agent will have a unique ID and the ability to send and receive messages."
   ]
  },
  {
   "cell_type": "code",
   "execution_count": 2,
   "metadata": {},
   "outputs": [],
   "source": [
    "class AgentNode:\n",
    "    def __init__(self, id: int):\n",
    "        self.id = id\n",
    "        self.peers: List[int] = []  # List of peer IDs\n",
    "        self.received_messages: List[str] = []\n",
    "    \n",
    "    async def send_message(self, to_id: int, message: str):\n",
    "        # In a real system, this would use actual network communication\n",
    "        # For our simulation, it will be handled by the NetworkSimulator\n",
    "        print(f\"Agent {self.id} sending message to Agent {to_id}: {message}\")\n",
    "        await asyncio.sleep(0.1)  # Simulate network delay\n",
    "    \n",
    "    async def receive_message(self, from_id: int, message: str):\n",
    "        print(f\"Agent {self.id} received message from Agent {from_id}: {message}\")\n",
    "        self.received_messages.append(f\"From {from_id}: {message}\")\n",
    "    \n",
    "    async def run(self):\n",
    "        while True:\n",
    "            if self.peers:\n",
    "                to_id = random.choice(self.peers)\n",
    "                message = f\"Hello from {self.id} at {time.time()}\"\n",
    "                await self.send_message(to_id, message)\n",
    "            await asyncio.sleep(random.uniform(1, 3))  # Random delay between messages"
   ]
  },
  {
   "cell_type": "markdown",
   "metadata": {},
   "source": [
    "## Network Simulator\n",
    "\n",
    "Now, let's create a `NetworkSimulator` class that will manage our agents and simulate the network communication between them."
   ]
  },
  {
   "cell_type": "code",
   "execution_count": 3,
   "metadata": {},
   "outputs": [],
   "source": [
    "class NetworkSimulator:\n",
    "    def __init__(self):\n",
    "        self.nodes: Dict[int, AgentNode] = {}\n",
    "    \n",
    "    def add_node(self, node: AgentNode):\n",
    "        self.nodes[node.id] = node\n",
    "    \n",
    "    def setup_peers(self):\n",
    "        for node in self.nodes.values():\n",
    "            node.peers = [id for id in self.nodes.keys() if id != node.id]\n",
    "    \n",
    "    async def simulate_network(self):\n",
    "        # Simulate message passing between nodes\n",
    "        while True:\n",
    "            for node in self.nodes.values():\n",
    "                if node.peers:\n",
    "                    to_id = random.choice(node.peers)\n",
    "                    message = f\"Network message from {node.id} at {time.time()}\"\n",
    "                    await self.nodes[to_id].receive_message(node.id, message)\n",
    "            await asyncio.sleep(0.5)  # Simulate network interval\n",
    "    \n",
    "    async def run_simulation(self, duration: int):\n",
    "        # Start all agent tasks\n",
    "        agent_tasks = [asyncio.create_task(node.run()) for node in self.nodes.values()]\n",
    "        \n",
    "        # Start network simulation task\n",
    "        network_task = asyncio.create_task(self.simulate_network())\n",
    "        \n",
    "        # Run for specified duration\n",
    "        await asyncio.sleep(duration)\n",
    "        \n",
    "        # Cancel all tasks\n",
    "        for task in agent_tasks:\n",
    "            task.cancel()\n",
    "        network_task.cancel()\n",
    "        \n",
    "        # Wait for tasks to be cancelled\n",
    "        await asyncio.gather(*agent_tasks, network_task, return_exceptions=True)\n",
    "        \n",
    "        print(\"Simulation completed.\")"
   ]
  },
  {
   "cell_type": "markdown",
   "metadata": {},
   "source": [
    "## Running the Simulation\n",
    "\n",
    "Now let's set up our network and run a simulation."
   ]
  },
  {
   "cell_type": "code",
   "execution_count": 4,
   "metadata": {},
   "outputs": [
    {
     "ename": "RuntimeError",
     "evalue": "asyncio.run() cannot be called from a running event loop",
     "output_type": "error",
     "traceback": [
      "\u001b[0;31m---------------------------------------------------------------------------\u001b[0m",
      "\u001b[0;31mRuntimeError\u001b[0m                              Traceback (most recent call last)",
      "Cell \u001b[0;32mIn[4], line 21\u001b[0m\n\u001b[1;32m     18\u001b[0m             \u001b[38;5;28mprint\u001b[39m(\u001b[38;5;124mf\u001b[39m\u001b[38;5;124m\"\u001b[39m\u001b[38;5;124m  \u001b[39m\u001b[38;5;132;01m{\u001b[39;00mmsg\u001b[38;5;132;01m}\u001b[39;00m\u001b[38;5;124m\"\u001b[39m)\n\u001b[1;32m     20\u001b[0m \u001b[38;5;66;03m# Run the simulation\u001b[39;00m\n\u001b[0;32m---> 21\u001b[0m \u001b[43masyncio\u001b[49m\u001b[38;5;241;43m.\u001b[39;49m\u001b[43mrun\u001b[49m\u001b[43m(\u001b[49m\u001b[43mmain\u001b[49m\u001b[43m(\u001b[49m\u001b[43m)\u001b[49m\u001b[43m)\u001b[49m\n",
      "File \u001b[0;32m~/miniconda3/lib/python3.12/asyncio/runners.py:190\u001b[0m, in \u001b[0;36mrun\u001b[0;34m(main, debug, loop_factory)\u001b[0m\n\u001b[1;32m    161\u001b[0m \u001b[38;5;250m\u001b[39m\u001b[38;5;124;03m\"\"\"Execute the coroutine and return the result.\u001b[39;00m\n\u001b[1;32m    162\u001b[0m \n\u001b[1;32m    163\u001b[0m \u001b[38;5;124;03mThis function runs the passed coroutine, taking care of\u001b[39;00m\n\u001b[0;32m   (...)\u001b[0m\n\u001b[1;32m    186\u001b[0m \u001b[38;5;124;03m    asyncio.run(main())\u001b[39;00m\n\u001b[1;32m    187\u001b[0m \u001b[38;5;124;03m\"\"\"\u001b[39;00m\n\u001b[1;32m    188\u001b[0m \u001b[38;5;28;01mif\u001b[39;00m events\u001b[38;5;241m.\u001b[39m_get_running_loop() \u001b[38;5;129;01mis\u001b[39;00m \u001b[38;5;129;01mnot\u001b[39;00m \u001b[38;5;28;01mNone\u001b[39;00m:\n\u001b[1;32m    189\u001b[0m     \u001b[38;5;66;03m# fail fast with short traceback\u001b[39;00m\n\u001b[0;32m--> 190\u001b[0m     \u001b[38;5;28;01mraise\u001b[39;00m \u001b[38;5;167;01mRuntimeError\u001b[39;00m(\n\u001b[1;32m    191\u001b[0m         \u001b[38;5;124m\"\u001b[39m\u001b[38;5;124masyncio.run() cannot be called from a running event loop\u001b[39m\u001b[38;5;124m\"\u001b[39m)\n\u001b[1;32m    193\u001b[0m \u001b[38;5;28;01mwith\u001b[39;00m Runner(debug\u001b[38;5;241m=\u001b[39mdebug, loop_factory\u001b[38;5;241m=\u001b[39mloop_factory) \u001b[38;5;28;01mas\u001b[39;00m runner:\n\u001b[1;32m    194\u001b[0m     \u001b[38;5;28;01mreturn\u001b[39;00m runner\u001b[38;5;241m.\u001b[39mrun(main)\n",
      "\u001b[0;31mRuntimeError\u001b[0m: asyncio.run() cannot be called from a running event loop"
     ]
    }
   ],
   "source": [
    "async def main():\n",
    "    simulator = NetworkSimulator()\n",
    "    \n",
    "    # Create and add nodes\n",
    "    for i in range(5):\n",
    "        simulator.add_node(AgentNode(i))\n",
    "    \n",
    "    # Setup peer relationships\n",
    "    simulator.setup_peers()\n",
    "    \n",
    "    # Run simulation for 10 seconds\n",
    "    await simulator.run_simulation(10)\n",
    "    \n",
    "    # Print received messages for each node\n",
    "    for node in simulator.nodes.values():\n",
    "        print(f\"\\nAgent {node.id} received messages:\")\n",
    "        for msg in node.received_messages:\n",
    "            print(f\"  {msg}\")\n",
    "\n",
    "# Run the simulation\n",
    "asyncio.run(main())"
   ]
  },
  {
   "cell_type": "markdown",
   "metadata": {},
   "source": [
    "## Analysis and Observations\n",
    "\n",
    "Let's analyze some aspects of our distributed communication system:"
   ]
  },
  {
   "cell_type": "code",
   "execution_count": null,
   "metadata": {},
   "outputs": [],
   "source": [
    "def analyze_communication(simulator: NetworkSimulator):\n",
    "    total_messages = sum(len(node.received_messages) for node in simulator.nodes.values())\n",
    "    avg_messages = total_messages / len(simulator.nodes)\n",
    "    \n",
    "    print(f\"Total messages exchanged: {total_messages}\")\n",
    "    print(f\"Average messages per node: {avg_messages:.2f}\")\n",
    "    \n",
    "    # Find the node with the most received messages\n",
    "    max_node = max(simulator.nodes.values(), key=lambda n: len(n.received_messages))\n",
    "    print(f\"Node {max_node.id} received the most messages: {len(max_node.received_messages)}\")\n",
    "\n",
    "# Run analysis\n",
    "analyze_communication(simulator)"
   ]
  },
  {
   "cell_type": "markdown",
   "metadata": {},
   "source": [
    "## Conclusion\n",
    "\n",
    "In this notebook, we implemented a simple distributed communication system using Python's asyncio library. Some key points:\n",
    "\n",
    "1. We used asynchronous programming to simulate concurrent operation of multiple agents.\n",
    "2. The `NetworkSimulator` class acts as a centralized coordinator, which in a real distributed system would be replaced by actual network protocols.\n",
    "3. We simulated network delays and random intervals between messages to mimic real-world conditions.\n",
    "4. The system demonstrates basic peer-to-peer communication in a distributed environment.\n",
    "\n",
    "Areas for potential improvement and expansion:\n",
    "1. Implement more sophisticated network topologies (e.g., ring, mesh, or tree structures).\n",
    "2. Add message routing algorithms for more complex network structures.\n",
    "3. Introduce network partitions and reconciliation mechanisms.\n",
    "4. Implement distributed algorithms like leader election or consensus protocols.\n",
    "5. Add security features like message encryption and authentication.\n",
    "\n",
    "This implementation serves as a foundation for exploring distributed systems concepts and can be integrated with other components, such as the compositional learning system we developed earlier."
   ]
  }
 ],
 "metadata": {
  "kernelspec": {
   "display_name": "base",
   "language": "python",
   "name": "python3"
  },
  "language_info": {
   "codemirror_mode": {
    "name": "ipython",
    "version": 3
   },
   "file_extension": ".py",
   "mimetype": "text/x-python",
   "name": "python",
   "nbconvert_exporter": "python",
   "pygments_lexer": "ipython3",
   "version": "3.12.2"
  }
 },
 "nbformat": 4,
 "nbformat_minor": 4
}
