{
 "cells": [
  {
   "cell_type": "markdown",
   "metadata": {},
   "source": [
    "# Distributed State Synchronization\n",
    "\n",
    "This notebook implements a mechanism for synchronizing state across distributed agents. We'll use a simple key-value store as our shared state and implement a basic conflict resolution strategy.\n",
    "\n",
    "## References:\n",
    "1. DeCandia, G., et al. (2007). Dynamo: amazon's highly available key-value store. ACM SIGOPS operating systems review, 41(6), 205-220.\n",
    "2. Lamport, L. (1978). Time, clocks, and the ordering of events in a distributed system. Communications of the ACM, 21(7), 558-565.\n",
    "3. Shapiro, M., et al. (2011). Conflict-free replicated data types. In Symposium on Self-Stabilizing Systems (pp. 386-400)."
   ]
  },
  {
   "cell_type": "code",
   "execution_count": null,
   "metadata": {},
   "source": [
    "import asyncio\n",
    "import random\n",
    "import time\n",
    "from typing import Dict, List, Tuple\n",
    "\n",
    "print(\"Distributed State Synchronization Simulation\")"
   ]
  },
  {
   "cell_type": "markdown",
   "metadata": {},
   "source": [
    "## Shared State\n",
    "\n",
    "We'll start by defining a `SharedState` class that represents our key-value store. Each value will be associated with a version number to help with conflict resolution."
   ]
  },
  {
   "cell_type": "code",
   "execution_count": null,
   "metadata": {},
   "source": [
    "class SharedState:\n",
    "    def __init__(self):\n",
    "        self.data: Dict[str, Tuple[int, any]] = {}  # (version, value)\n",
    "    \n",
    "    def update(self, key: str, value: any, version: int) -> bool:\n",
    "        if key not in self.data or self.data[key][0] < version:\n",
    "            self.data[key] = (version, value)\n",
    "            return True\n",
    "        return False\n",
    "    \n",
    "    def get(self, key: str) -> Tuple[int, any]:\n",
    "        return self.data.get(key, (0, None))\n",
    "    \n",
    "    def __str__(self):\n",
    "        return str({k: v for k, (_, v) in self.data.items()})"
   ]
  },
  {
   "cell_type": "markdown",
   "metadata": {},
   "source": [
    "## State Agent\n",
    "\n",
    "Now, let's create a `StateAgent` class that represents an individual agent in our distributed system. Each agent will have its own copy of the shared state and methods for propagating updates."
   ]
  },
  {
   "cell_type": "code",
   "execution_count": null,
   "metadata": {},
   "source": [
    "class StateAgent:\n",
    "    def __init__(self, id: int):\n",
    "        self.id = id\n",
    "        self.state = SharedState()\n",
    "        self.peers: List[int] = []  # List of peer IDs\n",
    "    \n",
    "    async def update_local_state(self, key: str, value: any):\n",
    "        version, _ = self.state.get(key)\n",
    "        new_version = version + 1\n",
    "        if self.state.update(key, value, new_version):\n",
    "            print(f\"Agent {self.id} updated local state: {key} = {value} (v{new_version})\")\n",
    "            await self.propagate_update(key, value, new_version)\n",
    "    \n",
    "    async def propagate_update(self, key: str, value: any, version: int):\n",
    "        for peer_id in self.peers:\n",
    "            await self.send_update(peer_id, key, value, version)\n",
    "    \n",
    "    async def send_update(self, to_id: int, key: str, value: any, version: int):\n",
    "        # In a real system, this would use actual network communication\n",
    "        # For our simulation, it will be handled by the NetworkSimulator\n",
    "        print(f\"Agent {self.id} sending update to Agent {to_id}: {key} = {value} (v{version})\")\n",
    "        await asyncio.sleep(0.1)  # Simulate network delay\n",
    "    \n",
    "    async def receive_update(self, from_id: int, key: str, value: any, version: int):\n",
    "        if self.state.update(key, value, version):\n",
    "            print(f\"Agent {self.id} received update from Agent {from_id}: {key} = {value} (v{version})\")\n",
    "            await self.propagate_update(key, value, version)\n",
    "    \n",
    "    async def run(self):\n",
    "        while True:\n",
    "            key = random.choice(['A', 'B', 'C'])\n",
    "            value = random.randint(1, 100)\n",
    "            await self.update_local_state(key, value)\n",
    "            await asyncio.sleep(random.uniform(1, 3))  # Random delay between updates"
   ]
  },
  {
   "cell_type": "markdown",
   "metadata": {},
   "source": [
    "## Network Simulator\n",
    "\n",
    "Let's create a `NetworkSimulator` class to manage our agents and simulate the network communication between them."
   ]
  },
  {
   "cell_type": "code",
   "execution_count": null,
   "metadata": {},
   "source": [
    "class NetworkSimulator:\n",
    "    def __init__(self):\n",
    "        self.agents: Dict[int, StateAgent] = {}\n",
    "    \n",
    "    def add_agent(self, agent: StateAgent):\n",
    "        self.agents[agent.id] = agent\n",
    "    \n",
    "    def setup_peers(self):\n",
    "        for agent in self.agents.values():\n",
    "            agent.peers = [id for id in self.agents.keys() if id != agent.id]\n",
    "    \n",
    "    async def simulate_network(self):\n",
    "        while True:\n",
    "            sender = random.choice(list(self.agents.values()))\n",
    "            receiver = self.agents[random.choice(sender.peers)]\n",
    "            key = random.choice(['A', 'B', 'C'])\n",
    "            version, value = sender.state.get(key)\n",
    "            await receiver.receive_update(sender.id, key, value, version)\n",
    "            await asyncio.sleep(0.5)  # Simulate network interval\n",
    "    \n",
    "    async def run_simulation(self, duration: int):\n",
    "        agent_tasks = [asyncio.create_task(agent.run()) for agent in self.agents.values()]\n",
    "        network_task = asyncio.create_task(self.simulate_network())\n",
    "        \n",
    "        await asyncio.sleep(duration)\n",
    "        \n",
    "        for task in agent_tasks:\n",
    "            task.cancel()\n",
    "        network_task.cancel()\n",
    "        \n",
    "        await asyncio.gather(*agent_tasks, network_task, return_exceptions=True)\n",
    "        \n",
    "        print(\"Simulation completed.\")"
   ]
  },
  {
   "cell_type": "markdown",
   "metadata": {},
   "source": [
    "## Running the Simulation\n",
    "\n",
    "Now let's set up our network and run a simulation."
   ]
  },
  {
   "cell_type": "code",
   "execution_count": null,
   "metadata": {},
   "source": [
    "async def main():\n",
    "    simulator = NetworkSimulator()\n",
    "    \n",
    "    # Create and add agents\n",
    "    for i in range(5):\n",
    "        simulator.add_agent(StateAgent(i))\n",
    "    \n",
    "    # Setup peer relationships\n",
    "    simulator.setup_peers()\n",
    "    \n",
    "    # Run simulation for 20 seconds\n",
    "    await simulator.run_simulation(20)\n",
    "    \n",
    "    # Print final state for each agent\n",
    "    for agent in simulator.agents.values():\n",
    "        print(f\"Agent {agent.id} final state: {agent.state}\")\n",
    "\n",
    "# Run the simulation\n",
    "asyncio.run(main())"
   ]
  },
  {
   "cell_type": "markdown",
   "metadata": {},
   "source": [
    "## Analysis and Observations\n",
    "\n",
    "Let's analyze some aspects of our distributed state synchronization system:"
   ]
  },
  {
   "cell_type": "code",
   "execution_count": null,
   "metadata": {},
   "source": [
    "def analyze_synchronization(simulator: NetworkSimulator):\n",
    "    # Check if all agents have the same final state\n",
    "    states = [str(agent.state) for agent in simulator.agents.values()]\n",
    "    if len(set(states)) == 1:\n",
    "        print(\"All agents have synchronized to the same state.\")\n",
    "        print(f\"Final state: {states[0]}\")\n",
    "    else:\n",
    "        print(\"Agents have not fully synchronized. Final states:\")\n",
    "        for agent in simulator.agents.values():\n",
    "            print(f\"Agent {agent.id}: {agent.state}\")\n",
    "    \n",
    "    # Analyze versions for each key\n",
    "    for key in ['A', 'B', 'C']:\n",
    "        versions = [agent.state.get(key)[0] for agent in simulator.agents.values()]\n",
    "        print(f\"Key {key} - Max version: {max(versions)}, Min version: {min(versions)}\")\n",
    "\n",
    "# Run analysis\n",
    "analyze_synchronization(simulator)"
   ]
  },
  {
   "cell_type": "markdown",
   "metadata": {},
   "source": [
    "## Conclusion\n",
    "\n",
    "In this notebook, we implemented a basic distributed state synchronization system. Key points:\n",
    "\n",
    "1. We used a simple key-value store with version numbers for shared state.\n",
    "2. Agents propagate their local updates to peers.\n",
    "3. A basic \"last writer wins\" conflict resolution strategy is used, based on version numbers.\n",
    "4. The system demonstrates eventual consistency in a distributed environment.\n",
    "\n",
    "Areas for potential improvement and expansion:\n",
    "1. Implement more sophisticated conflict resolution strategies (e.g., vector clocks, CRDTs).\n",
    "2. Add support for concurrent updates and partial replication.\n",
    "3. Implement gossip protocols for more efficient state propagation.\n",
    "4. Introduce network partitions and reconciliation mechanisms.\n",
    "5. Add security features like access control and encrypted state transfers.\n",
    "\n",
    "This implementation serves as a foundation for exploring distributed state management and can be integrated with other components, such as the compositional learning system and distributed communication system we developed earlier."
   ]
  }
 ],
 "metadata": {
  "kernelspec": {
   "display_name": "Python 3",
   "language": "python",
   "name": "python3"
  },
  "language_info": {
   "codemirror_mode": {
    "name": "ipython",
    "version": 3
   },
   "file_extension": ".py",
   "mimetype": "text/x-python",
   "name": "python",
   "nbconvert_exporter": "python",
   "pygments_lexer": "ipython3",
   "version": "3.8.5"
  }
 },
 "nbformat": 4,
 "nbformat_minor": 4
}